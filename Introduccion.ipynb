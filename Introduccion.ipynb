{
 "cells": [
  {
   "cell_type": "markdown",
   "metadata": {},
   "source": [
    "# Incidencia Delictiva Estatal 2015-2019"
   ]
  },
  {
   "cell_type": "markdown",
   "metadata": {},
   "source": [
    "En México la incidencia delictiva es un problema que ha ido en incremento y esta vinculado con el crimen organizado, tanto que ha aumentado la percepción de inseguridad de la población mexicana en los últimos años. De los 80's en donde se tenía un control sobre las primeras células delictivas a través de una aparato burocrático basado en un modelo de sustitución de importaciones, a un nivel de violencia actual en donde no se ha acabado de definir la **política en materia de seguridad** que presentará el gobierno  para combatir a los cárteles de la droga y en general los delitos de robo, extorsión, homicidios, más relacionados con el fuero común."
   ]
  },
  {
   "cell_type": "markdown",
   "metadata": {},
   "source": [
    "Ante los señalamientos del actual gobierno de que la principal causa de los delitos del fuero común son ocasionados por la **pobreza** se decidió analizar la incidencia delictiva durante el período 2015-2019. Entre los delitos que más afectan la vida de los ciudadanos se encuentran el homicidio, el robo a transeúnte, el robo en carretera, el robo de vehículo, el robo a casa habitación y la extorsión."
   ]
  },
  {
   "cell_type": "markdown",
   "metadata": {},
   "source": [
    "Como marco de referencia nos apoyamos en **\"What Do Economists Know About Crime?\"** de Angela K. Dills, Jeffrey A. Miron, Garrett Summers, en el cual se señala algunas de las causas u orígenes de la actividad criminal en los Estados Unidos, particularmente, sobre temas de desempleo y pobreza, los cuales no parecen ser factores determinantes que aumenten o disminuyan la incidencia delictiva, como sí parecen serlo el número de personas en edad de delinquir.\n"
   ]
  },
  {
   "cell_type": "markdown",
   "metadata": {},
   "source": [
    "# Bases de datos"
   ]
  },
  {
   "cell_type": "markdown",
   "metadata": {},
   "source": [
    "Base de Incidencia delictiva:  **Secretariado Ejecutivo del Sistema Nacional de Seguridad Pública** (SESNSP), el cual publica las estadísticas de las carpetas de investigación de las Fiscalías estatales."
   ]
  },
  {
   "cell_type": "markdown",
   "metadata": {},
   "source": [
    "Para estudiar a la población en edad de delinquir se tomaron cifras de `CONAPO` , con población a mitad de año. Datos de desocupación se obtuvieron del `INEGI` del Banco de Información Económica, el Ingreso promedio anual fue deflactado con el Índice Nacional de Precios al Consumidor tomado de la `ENIGH`. El Producto Interno Bruto se obtuvo del `Sistema de Cuentas Nacionales` y cifras de pobreza y pobreza extrema se extrajeron del `CONEVAL`."
   ]
  },
  {
   "cell_type": "markdown",
   "metadata": {},
   "source": [
    "# Periodo a analizar"
   ]
  },
  {
   "cell_type": "markdown",
   "metadata": {},
   "source": [
    "Se analizó el periodo de 2015 a 2019, toda vez que estas cifras presentan congruencia en la base de datos del `SESNSP`, si bien es cierto que  hay una serie que va de 1997 a 2017, ésta  presenta una metodología diferente en la presentación y desagregación de datos, por esa razón se analizó este periodo de 4 años."
   ]
  }
 ],
 "metadata": {
  "kernelspec": {
   "display_name": "Python 3",
   "language": "python",
   "name": "python3"
  },
  "language_info": {
   "codemirror_mode": {
    "name": "ipython",
    "version": 3
   },
   "file_extension": ".py",
   "mimetype": "text/x-python",
   "name": "python",
   "nbconvert_exporter": "python",
   "pygments_lexer": "ipython3",
   "version": "3.7.6"
  }
 },
 "nbformat": 4,
 "nbformat_minor": 4
}
