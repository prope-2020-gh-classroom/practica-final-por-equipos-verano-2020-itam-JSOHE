{
 "cells": [
  {
   "cell_type": "markdown",
   "metadata": {},
   "source": [
    "## Modelo y metodología para el robo a casa habitación"
   ]
  },
  {
   "cell_type": "markdown",
   "metadata": {},
   "source": [
    "El modelo que se plantea explica el robo a casa habitación en función de la población de 25 a 34 años, la tasa de desocupación, el PIB estatal y la pobreza.\n",
    "\n",
    "Las datos provienen de distintas fuentes:\n",
    "1. La Secretaría de Gobernación, para la variable de robo a casa habitación ($Tasa\\_rcasa$); \n",
    "2. CONAPO, en el caso de la población de 25 a 34 años ($prop2534$);\n",
    "3. INEGI, a través de la ENOE, brinda la tasa de desocupación ($desocupa$);\n",
    "3. El Sistema de Cuentas Nacionales del INEGI porporciona el PIB estatal ($pibe$) y;\n",
    "4. El CONEVAL presenta la estimación de la pobreza en el año 2016 y 2018. Las cifras de pobreza de los años 2015 y 2017 se estimaron con interpolación por splines ($pobreza$).\n",
    "\n",
    "Con esta información se conforma una base de datos panel, se siguen las 32 entidades federativas a través del periodo 2015 a 2019. Es decir, se tienen las variables señaladas por cada estado durante 5 años, con excepción de la pobreza, cuya información esta disponible hasta 2018, debido a que la base de datos utilizada para su construcción se produce de manera bianual. Por tal razón, el panel de datos es desbalanceado.\n",
    "\n",
    "Dada la estructura de la información se utiliza el método de estimación de mínimos cuadrados ordinarios para datos panel con efectos aleatorios. Esta metodología permite eliminar el efecto de variables omitidas que son constantes en el tiempo y que podrían causar inconsistencia en el modelo.\n",
    "\n",
    "A fin de facilitar la interpretación los resultados de la estimación se realizó la transformación logarítmica de la variable PIB estatal.\n",
    "\n",
    "Así, el modelo planteado es el siguiente:"
   ]
  },
  {
   "cell_type": "markdown",
   "metadata": {},
   "source": [
    "$$Tasa\\_rcasa_{i,j}=\\beta_0+\\beta_1*prop2534_{i,j}+\\beta_2*desocupa_{i,j}+\\beta_3*logpibe_{i,j}+\\beta_4*pobreza_{i,j}+u$$"
   ]
  },
  {
   "cell_type": "markdown",
   "metadata": {},
   "source": [
    "Donde:\n",
    "\n",
    "    i =entidad\n",
    "    j =periodo\n",
    "    Tasa\\_rcasa = tasa de robo a casa habitación por cada 100 mil habitantes\n",
    "    prop2534 = proporción de la población de 25 a 34 años respecto del total de la población\n",
    "    desocupa = tasa de desocupación\n",
    "    logpibe = logaritmo natural de PIB estatal\n",
    "    pobreza = porcentaje de la población en pobreza\n",
    "    \n",
    "    "
   ]
  }
 ],
 "metadata": {
  "kernelspec": {
   "display_name": "Python 3",
   "language": "python",
   "name": "python3"
  },
  "language_info": {
   "codemirror_mode": {
    "name": "ipython",
    "version": 3
   },
   "file_extension": ".py",
   "mimetype": "text/x-python",
   "name": "python",
   "nbconvert_exporter": "python",
   "pygments_lexer": "ipython3",
   "version": "3.7.6"
  }
 },
 "nbformat": 4,
 "nbformat_minor": 4
}
